{
 "cells": [
  {
   "cell_type": "code",
   "execution_count": 14,
   "metadata": {},
   "outputs": [
    {
     "name": "stdout",
     "output_type": "stream",
     "text": [
      "Eulerian Cycle: ['A', 'B', 'C', 'A']\n"
     ]
    }
   ],
   "source": [
    "from collections import defaultdict\n",
    "import networkx as nx\n",
    "\n",
    "\n",
    "def explore(node,graph):\n",
    "    while graph.out_degree(node) > 0:\n",
    "        neighbor = next(graph.successors(node))\n",
    "        \n",
    "        graph.remove_edge(node, neighbor)\n",
    "        explore(neighbor,graph)\n",
    "    cycle.append(node)\n",
    "\n",
    "def eulerian_cycle(graph):\n",
    "    global cycle\n",
    "    cycle = []\n",
    "\n",
    "    # Choose a starting node arbitrarily\n",
    "    start_node = next(iter(graph.nodes()))\n",
    "\n",
    "    explore(start_node, graph)\n",
    "\n",
    "    return cycle[::-1]\n",
    "\n",
    "#G = nx.read_adjlist('dataset_30187_2 (1).txt',create_using=nx.DiGraph(), nodetype=int)\n",
    "#nx.draw_networkx(G)\n",
    "\n",
    "G_sample = {'A': ['B'], 'B': ['C'],'C':['A']}\n",
    "G = nx.DiGraph()\n",
    "\n",
    "# Add nodes and edges from the dictionary\n",
    "for node, neighbors in G_sample.items():\n",
    "    G.add_node(node)\n",
    "    for neighbor in neighbors:\n",
    "        G.add_edge(node, neighbor)\n",
    "result = eulerian_cycle(G)\n",
    "print(\"Eulerian Cycle:\", result)\n"
   ]
  },
  {
   "cell_type": "code",
   "execution_count": 21,
   "metadata": {},
   "outputs": [],
   "source": [
    "import re\n",
    "def de_bruijn_graph_from_reads(reads, k):\n",
    "    \n",
    "    graph = nx.DiGraph()\n",
    "\n",
    "    for read in reads:\n",
    "        for i in range(len(read) - k + 1):\n",
    "            kmer = read[i:i+k]\n",
    "            prefix = kmer[:-1]\n",
    "            suffix = kmer[1:]\n",
    "\n",
    "            if graph.has_edge(prefix, suffix):\n",
    "                graph[prefix][suffix]['weight'] += 1\n",
    "            else:\n",
    "                graph.add_edge(prefix, suffix, weight=1)\n",
    "\n",
    "    return graph\n",
    "\n",
    "\n",
    "def create_string_from_path(path):\n",
    "    sequence = path[0]\n",
    "    for node in path[1:]:\n",
    "        sequence += node[-1]\n",
    "\n",
    "    return sequence\n"
   ]
  },
  {
   "cell_type": "code",
   "execution_count": 22,
   "metadata": {},
   "outputs": [
    {
     "name": "stdout",
     "output_type": "stream",
     "text": [
      "AAGATTCTCTA: AGATTCTCTAA\n",
      "AGATTCTCTAA: GATTCTCTAAG\n",
      "GATTCTCTAAG: ATTCTCTAAGA\n"
     ]
    }
   ],
   "source": [
    "def string_composition(k, text):\n",
    "    compositions = []\n",
    "    for i in range(len(text) - k + 1):\n",
    "        kmer = text[i:i + k]\n",
    "        compositions.append(kmer)\n",
    "    return compositions\n",
    "\n",
    "k = 12\n",
    "text = \"AAGATTCTCTAAGA\"\n",
    "#with open(\"dataset_30183_6 (1).txt\", 'r') as file:\n",
    "#        text = file.read()\n",
    "#kmers = string_composition(k, text)\n",
    "#print(kmers)\n",
    "\n",
    "de_bruijn_graph = de_bruijn_graph_from_reads([text], k)\n",
    "adj_list = nx.generate_adjlist(de_bruijn_graph)\n",
    "#print(de_bruijn_graph.edges(data = True) )\n",
    "for node in de_bruijn_graph.nodes():\n",
    "    neighbors = de_bruijn_graph.neighbors(node)\n",
    "    for v in neighbors:\n",
    "        weight = de_bruijn_graph[node][v]['weight']\n",
    "        repeated_neighbors = [v] * weight\n",
    "        print(f\"{node}: {', '.join(map(str, repeated_neighbors))}\")"
   ]
  },
  {
   "cell_type": "code",
   "execution_count": 29,
   "metadata": {},
   "outputs": [
    {
     "name": "stdout",
     "output_type": "stream",
     "text": [
      "[1, 2, 3, 4, 2, 1]\n"
     ]
    },
    {
     "data": {
      "image/png": "[encoded data removed]",
      "text/plain": [
       "<Figure size 640x480 with 1 Axes>"
      ]
     },
     "metadata": {},
     "output_type": "display_data"
    }
   ],
   "source": [
    "graph = nx.DiGraph()\n",
    "graph.add_edges_from([(1, 2), (2, 3), (3, 1), (3, 4), (4, 2)])\n",
    "#graph = G.copy()\n",
    "nx.draw_networkx(graph)\n",
    "print(eulerian_cycle(graph))"
   ]
  },
  {
   "cell_type": "code",
   "execution_count": 35,
   "metadata": {},
   "outputs": [
    {
     "name": "stdout",
     "output_type": "stream",
     "text": [
      "Eulerian Path: [1, 2, 3, 4, 2]\n"
     ]
    }
   ],
   "source": [
    "import networkx as nx\n",
    "\n",
    "def find_eulerian_path(graph):\n",
    "    # Check if the graph is weakly connected (ignoring edge directions)\n",
    "    if not nx.is_weakly_connected(graph):\n",
    "        raise ValueError(\"The graph is not weakly connected.\")\n",
    "\n",
    "    # Count the in-degrees and out-degrees for each node\n",
    "    in_degrees = graph.in_degree()\n",
    "    out_degrees = graph.out_degree()\n",
    "\n",
    "    # Count nodes with odd in-degrees and out-degrees\n",
    "    odd_in_nodes = [node_in[0] for node_in, node_out in zip(in_degrees,out_degrees) if node_in[1] < node_out[1] ]\n",
    "    odd_out_nodes = [node_in[0] for node_in, node_out in zip(in_degrees,out_degrees) if node_in[1] > node_out[1] ]\n",
    "    #print(odd_in_nodes,odd_out_nodes)\n",
    "\n",
    "    # Ensure there are either zero or two nodes with odd degrees\n",
    "    if len(odd_in_nodes) + len(odd_out_nodes) not in [0, 2]:\n",
    "        print(odd_in_nodes, odd_out_nodes)\n",
    "        #raise ValueError(\"The graph does not have the required degrees for an Eulerian path.\")\n",
    "\n",
    "    graph.add_edge(odd_out_nodes[0], odd_in_nodes[0])\n",
    "\n",
    "    return graph, odd_in_nodes[0] , odd_out_nodes[0]\n",
    "\n",
    "def eulerian_cycle_recursive(graph, first):\n",
    "    def explore(node):\n",
    "        while graph.out_degree(node) > 0:\n",
    "            neighbor = next(graph.successors(node))\n",
    "            graph.remove_edge(node, neighbor)\n",
    "            explore(neighbor)\n",
    "        cycle.append(node)\n",
    "\n",
    "    # Initialize variables\n",
    "    cycle = []\n",
    "\n",
    "    # Choose a starting node arbitrarily\n",
    "    #start_node = next(iter(graph.nodes()))\n",
    "    start_node = first\n",
    "\n",
    "\n",
    "    explore(start_node)\n",
    "\n",
    "    return cycle[::-1]\n",
    "\n",
    "graph = nx.DiGraph()\n",
    "graph.add_edges_from([(1, 2), (2, 3), (3, 1), (3, 4), (4, 2)])\n",
    "eulerian_path_result, first , last  = find_eulerian_path(graph)\n",
    "\n",
    "#G_path = nx.read_adjlist('dataset_30187_6 (1).txt',create_using=nx.DiGraph(), nodetype=int)\n",
    "#nx.draw_networkx(G_path)\n",
    "#eulerian_path_result, first , last  = find_eulerian_path(G_path)\n",
    "\n",
    "result = eulerian_cycle_recursive(eulerian_path_result,first)[1:]\n",
    "print(\"Eulerian Path:\", result)"
   ]
  },
  {
   "cell_type": "code",
   "execution_count": 36,
   "metadata": {},
   "outputs": [
    {
     "name": "stdout",
     "output_type": "stream",
     "text": [
      "3-mers extracted from the text:\n",
      "[['AAT', 'CAT'], ['ATG', 'ATG'], ['ATG', 'ATG'], ['CAT', 'GAT'], ['CCA', 'GGA'], ['GCC', 'GGG'], ['GGG', 'GTT'], ['TAA', 'CCA'], ['TGC', 'TGG'], ['TGG', 'TGT']]\n"
     ]
    }
   ],
   "source": [
    "def extract_n_mers(text, n,gap):\n",
    "    \n",
    "    n_mers = []\n",
    "    text_length = len(text)\n",
    "\n",
    "    for i in range(text_length - n - gap + 1):\n",
    "        n_mer = text[i:i + n]\n",
    "        n_mer2 = text[i+gap:i + n+gap]\n",
    "        n_mers.append( [n_mer, n_mer2] )\n",
    "\n",
    "    return n_mers\n",
    "\n",
    "input_text = \"TAATGCCATGGGATGTT\"\n",
    "n_value = 3\n",
    "gap = 2 + n_value\n",
    "result = extract_n_mers(input_text, n_value, gap)\n",
    "sorted_list = sorted(result, key=lambda x: x[0])\n",
    "\n",
    "print(f\"{n_value}-mers extracted from the text:\")\n",
    "print(sorted_list)\n"
   ]
  },
  {
   "cell_type": "code",
   "execution_count": 42,
   "metadata": {},
   "outputs": [
    {
     "name": "stdout",
     "output_type": "stream",
     "text": [
      "[('AC', 'AT'), ('CC', 'TA'), ('CT', 'TT'), ('AT', 'TG'), ('TA', 'GA'), ('TT', 'GA'), ('CA', 'GA'), ('CG', 'AC'), ('GA', 'CT'), ('CT', 'AG'), ('TG', 'GC'), ('TG', 'TC'), ('AA', 'TT'), ('TC', 'AA')]\n",
      "[('AT', 'TG'), ('CA', 'GA')] [('GA', 'CT'), ('AA', 'TT')]\n",
      "firstMer: ['AT', 'TA', 'AC', 'CT', 'TG', 'GA', 'CC', 'CG', 'GA', 'AT', 'TT', 'TC', 'CT', 'TG', 'GA']\n",
      "lastMer: ['TG', 'GA', 'AT', 'TT', 'TC', 'CT', 'TA', 'AC', 'CT', 'TG', 'GA', 'AA', 'AG', 'GC', 'CT']\n",
      "seqience: ATACTGACGATTCTGAAGCT\n"
     ]
    }
   ],
   "source": [
    "def de_bruijn_pair_from_reads(reads, k, gap):\n",
    "    \n",
    "    graph = nx.DiGraph()\n",
    "\n",
    "    for read in reads:\n",
    "        #for i in range(len(read[0]) - gap  + 1):\n",
    "        kmer = read[0][0:k] , read[1][0:k]\n",
    "        prefix = kmer[0][:-1], kmer[1][:-1]\n",
    "        suffix = kmer[0][1:] , kmer[1][1:]\n",
    "\n",
    "        if graph.has_edge(prefix, suffix):\n",
    "            graph[prefix][suffix]['weight'] += 1\n",
    "        else:\n",
    "            graph.add_edge(prefix, suffix, weight=1)\n",
    "\n",
    "    return graph\n",
    "\n",
    "#pairs = de_bruijn_pair_from_reads(sorted_list,4)\n",
    "k = 3\n",
    "gap = 1\n",
    "#pairs = [('GAGA','TTGA') ,('TCGT','GATG'), ('CGTG','ATGT'), ('TGGT','TGAG') , ('GTGA','TGTT'), ('GTGG','GTGA'), ('TGAG','GTTG'), ('GGTC','GAGA'), ('GTCG','AGAT')]\n",
    "pairs = [('ACC','ATA'), ('ACT','ATT'), ('ATA','TGA'), ('ATT','TGA'), ('CAC','GAT'), ('CCG','TAC'), ('CGA','ACT'), ('CTG','AGC'), ('CTG','TTC'), ('GAA','CTT'), ('GAT','CTG'), ('GAT','CTG'), ('TAC','GAT'), ('TCT','AAG'), ('TGA','GCT'), ('TGA','TCT'), ('TTC','GAA')]\n",
    "#pairs = [('AG','AG'), ('AG','TG'), ('CA','CT'), ('CT','CA'), ('CT','CT'), ('GC','GC'), ('GC','GC'), ('GC','GC'), ('TG','TG')]\n",
    "#pairs = [('GACC','GCGC'), ('ACCG','CGCC'), ('CCGA','GCCG'), ('CGAG','CCGG'), ('GAGC','CGGA')]\n",
    "\n",
    "pairs = de_bruijn_pair_from_reads(pairs,k,gap)\n",
    "print(pairs.nodes())\n",
    "eulerian_path_result, first , last  = find_eulerian_path(pairs)\n",
    "\n",
    "result_path = eulerian_cycle_recursive(eulerian_path_result,first)[:-1]\n",
    "#print(result_path)\n",
    "firstMer = [path[0] for path in result_path]\n",
    "lastMer = [path[1] for path in result_path]\n",
    "print(f\"firstMer: {firstMer}\")\n",
    "print(f\"lastMer: {lastMer}\")\n",
    "sequence = create_string_from_path(firstMer)\n",
    "rest_seq = create_string_from_path(lastMer[-(2+gap):])\n",
    "sequence += rest_seq\n",
    "print(f\"seqience: {sequence}\")\n"
   ]
  },
  {
   "cell_type": "code",
   "execution_count": 49,
   "metadata": {},
   "outputs": [
    {
     "name": "stdout",
     "output_type": "stream",
     "text": [
      "[('AT', 'TG'), ('CA', 'GA')] [('GA', 'CT'), ('AA', 'TT')]\n",
      "ATACTGACGATTCTGAAGCT\n"
     ]
    }
   ],
   "source": [
    "import sys\n",
    "sys.setrecursionlimit(5000000)\n",
    "\n",
    "k = 3\n",
    "gap = 1\n",
    "pairs = [('ACC','ATA'), ('ACT','ATT'), ('ATA','TGA'), ('ATT','TGA'), ('CAC','GAT'), ('CCG','TAC'), ('CGA','ACT'), ('CTG','AGC'), ('CTG','TTC'), ('GAA','CTT'), ('GAT','CTG'), ('GAT','CTG'), ('TAC','GAT'), ('TCT','AAG'), ('TGA','GCT'), ('TGA','TCT'), ('TTC','GAA')]\n",
    "pairs = de_bruijn_pair_from_reads(pairs,k,gap)\n",
    "\n",
    "'''\n",
    "with open(\"dataset_30208_4.txt\", 'r') as file:\n",
    "        text = file.read()\n",
    "pairs = text.split()\n",
    "pairs = [tuple(pair.split('|')) for pair in pairs]\n",
    "pairs = de_bruijn_pair_from_reads(pairs,k,gap)\n",
    "k = 50\n",
    "gap = 200\n",
    "'''\n",
    "eulerian_path_result, first , last  = find_eulerian_path(pairs)\n",
    "\n",
    "result_path = eulerian_cycle_recursive(eulerian_path_result,first)[:-1]\n",
    "firstMer = [path[0] for path in result_path]\n",
    "lastMer = [path[1] for path in result_path]\n",
    "\n",
    "sequence = create_string_from_path(firstMer)\n",
    "rest_seq = create_string_from_path(lastMer[-(2+gap):])\n",
    "\n",
    "sequence += rest_seq\n",
    "print(sequence)"
   ]
  },
  {
   "cell_type": "code",
   "execution_count": 45,
   "metadata": {},
   "outputs": [
    {
     "name": "stdout",
     "output_type": "stream",
     "text": [
      "[4, 57, 57, 61, 61, 61, 61, 65, 118, 118, 122, 122, 122, 179, 179, 183, 183, 236, 240, 244, 301]\n"
     ]
    }
   ],
   "source": [
    "def spectral_convolution(spectrum):\n",
    "    convolutions = []\n",
    "    n = len(spectrum)\n",
    "\n",
    "    for i in range(n):\n",
    "        for j in range(i + 1, n):\n",
    "            convolutions.append(abs(spectrum[i] - spectrum[j]))\n",
    "\n",
    "    return sorted(convolutions)\n",
    "\n",
    "spectrum = [86, 160, 234, 308, 320, 382]\n",
    "spectrum = [0, 57, 118, 179, 236, 240, 301]\n",
    "result = spectral_convolution(spectrum)\n",
    "print(result)"
   ]
  },
  {
   "cell_type": "code",
   "execution_count": null,
   "metadata": {},
   "outputs": [],
   "source": []
  }
 ],
 "metadata": {
  "kernelspec": {
   "display_name": "Python 3 (ipykernel)",
   "language": "python",
   "name": "python3"
  },
  "language_info": {
   "codemirror_mode": {
    "name": "ipython",
    "version": 3
   },
   "file_extension": ".py",
   "mimetype": "text/x-python",
   "name": "python",
   "nbconvert_exporter": "python",
   "pygments_lexer": "ipython3",
   "version": "3.11.5"
  }
 },
 "nbformat": 4,
 "nbformat_minor": 4
}
