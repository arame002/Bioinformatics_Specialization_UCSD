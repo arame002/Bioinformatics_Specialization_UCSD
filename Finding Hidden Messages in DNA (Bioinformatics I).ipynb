{
 "cells": [
  {
   "cell_type": "code",
   "execution_count": 2,
   "metadata": {},
   "outputs": [
    {
     "data": {
      "text/plain": [
       "'0 46 51 74'"
      ]
     },
     "execution_count": 2,
     "metadata": {},
     "output_type": "execute_result"
    }
   ],
   "source": [
    "def pattern_matching(pattern, genome):\n",
    "    positions = []\n",
    "\n",
    "    for i in range(len(genome) - len(pattern) + 1):\n",
    "        if genome[i:i + len(pattern)] == pattern:\n",
    "            positions.append(str(i))  # Convert position to string\n",
    "\n",
    "    \n",
    "    return ' '.join(positions)\n",
    "\n",
    "pattern = \"CTTGATCAT\"\n",
    "#with open(\"./Vibrio_cholerae.txt\", \"r\") as file:\n",
    "#    genome = file.read()\n",
    "\n",
    "#pattern_matching(pattern, genome)\n",
    "pattern_matching('AAA','AAAGAGTGTCTGATAGCAGCTTCTGAACTGGTTACCTGCCGTGAGTAAATTAAATTTTATTGACTTAGGTCACTAAATACTTTAACCAATATAGGCATAGCGCACAGACAGATAATAATTACAGAGTACACAACATCCAT')\n",
    "#pattern_matching('CGCG','CGCGATACGTTACATACATGATAGACCGCGCGCGATCATATCGCGATTATC')\n"
   ]
  },
  {
   "cell_type": "code",
   "execution_count": 3,
   "metadata": {},
   "outputs": [
    {
     "name": "stdout",
     "output_type": "stream",
     "text": [
      "The reverse complement of TTGTGTC is: GACACAA\n"
     ]
    }
   ],
   "source": [
    "def reverse_complement(pattern):\n",
    "    complement_dict = {'A': 'T', 'T': 'A', 'C': 'G', 'G': 'C'}\n",
    "\n",
    "    complement_list = [complement_dict[base] for base in pattern]\n",
    "    reverse_complement_pattern = ''.join(complement_list[::-1])\n",
    "\n",
    "    return reverse_complement_pattern\n",
    "\n",
    "pattern = \"TTGTGTC\"\n",
    "\n",
    "reverse_complement_result = reverse_complement(pattern)\n",
    "\n",
    "print(f\"The reverse complement of {pattern} is: {reverse_complement_result}\")\n"
   ]
  },
  {
   "cell_type": "code",
   "execution_count": 5,
   "metadata": {},
   "outputs": [
    {
     "data": {
      "text/plain": [
       "['CC']"
      ]
     },
     "execution_count": 5,
     "metadata": {},
     "output_type": "execute_result"
    }
   ],
   "source": [
    "def better_frequent_words(text, k):\n",
    "    frequent_patterns = []\n",
    "    freq_map = frequency_table(text, k)\n",
    "    max_count = max_map(freq_map)\n",
    "\n",
    "    for pattern in freq_map:\n",
    "        if freq_map[pattern] == max_count:\n",
    "            frequent_patterns.append(pattern)\n",
    "\n",
    "    return frequent_patterns\n",
    "\n",
    "def frequency_table(text, k):\n",
    "    freq_map = {}\n",
    "    for i in range(len(text) - k + 1):\n",
    "        pattern = text[i:i + k]\n",
    "        if pattern in freq_map:\n",
    "            freq_map[pattern] += 1\n",
    "        else:\n",
    "            freq_map[pattern] = 1\n",
    "    return freq_map\n",
    "\n",
    "def max_map(freq_map):\n",
    "    max_count = max(freq_map.values(), default=0)\n",
    "    return max_count\n",
    "\n",
    "text = \"GATCCAGATCCCCATAC\"\n",
    "k = 2\n",
    "\n",
    "#result = better_frequent_words(text, k)\n",
    "result = better_frequent_words(text,k)\n",
    "result\n"
   ]
  },
  {
   "cell_type": "code",
   "execution_count": 7,
   "metadata": {},
   "outputs": [
    {
     "name": "stdout",
     "output_type": "stream",
     "text": [
      "['GTCCTTCGT', 'CGTCCTTCG', 'TCCTTCGTC']\n"
     ]
    }
   ],
   "source": [
    "def find_clumps(text, k, L, t):\n",
    "    patterns = set()\n",
    "\n",
    "    n = len(text)\n",
    "\n",
    "    for i in range(n - L + 1):\n",
    "        window = text[i:i + L]\n",
    "        freq_map = frequency_table(window, k)\n",
    "\n",
    "        for pattern, count in freq_map.items():\n",
    "            if count >= t:\n",
    "                patterns.add(pattern)\n",
    "\n",
    "    return list(patterns)\n",
    "\n",
    "text = \"GGGGCCAAAAAGTCATGTTTAAACTTGATAGGTAGATACTCCTGGAAAACTGATGGTTTCATTCCTCCTCGGAAGAATCCGAGAATCCGACCGAGGAACAGATCTGCAACTGAATATCAGACTCCTGATTAGAGTCGCGACGCTTCGCGCGTTAGTTGGCGCGAGGATTCACCGAGTAGGATTCCTCTAAAAAGCATCGCTGAATCATATAAGCTCTGGTGTACCCGATAGTCATTACTGCCGGTCAGACCACGTAAACGTATAGCTCTTATCGCCAAGATTGGGCTCAGGCCTAAGGGGTTTGACGGATGAAGCTGTTATGCGCATTCGCAGTTGTATTTTCTCGTACATTTAGTAGATAATAGATAATGTAGATAATTTATATTCTGCGTGTTCATCGCCGGAGTGCGAAGAGGTGGTGGGTACGCTTGGTGGGTACGGGTACGGAGGTAAACATGTTCTCGCCGGTTCAACGATTCTTCTGTCGTGCCTTTCATGCGGCGGGCTTCTAATGCGGGGGCTGGCTTCTAAAACCTGTCGTTTTTATCATTCGGTACGCGCCACTCTAGACCGCAACTGGACTGAATGCGTACTTCAGAGGCGATCCGCCGTTGATAAGTGAGATATGGAGAATCGACCATGCTCAGGAGGGAAAGATGCGTCTGTCCCTTAACACGAAGTCCAGAATATTAGTACGCCTACAATTAGTACTAGTACGCTGGTTACCTATATTTGTTACTTGCAGACTTACTACCATCCGTGCATTTTTCCTGGAGAGGCCATCCAGTGCCTTTAATGGAGTGGCGTATTTCAAATCGCCGTCCTTCGTCCTTCGTCCTTCGTCGGATCTTTACTCTTCTACTTTGAGCAGATAAGCAGATACAAAGCAGATACAGTGTAGTCTAACTCGGCTTTGCGAACCTCCCGGCTCCGACGCCACTTGTGCGCAAGGTCTGCGCTAGAGTAGCGTAGCGGCCAGCGGCCGCTAGCGGCCCTGCACCGCATTCATTCGCGAGTATTGACTACTGTCATCGACTAGTTGCGGCCTGGGAATCCGAGGATTGGCGCGTTGGCACAAAAGCGAGGACACTAGGAGACTCCGGTTTGTGCTGACTTTCATTCGCGGGGTTTACCTACAAGCCACGAAGTGCTTTGTGAAAAAAGGAAAAAAGGGAAAAAAGAGAGTTGAAATTGAATCAGTAACCACGCTAACTTTGCTTAAACAGAGTTAACCTCTGATGAACTGAGCGCACGCGACCGGTGAGCATAAGACGACTATATAATTAGGGATGATGTACACCCGCTTCTGAGTGGACCATGTGACATACTTCGATCGCGATACGAAGACGATGTGCGGAAAATACTTCTGAAGAGTGAAAGGCCCCTGCTCTGCAAAATGAGGCCGAGGCCATGAGATGAGGCCTCAGCATCTGTTGTGACTGAAGTCTATTTGTTTTGTCTATTTGTTGAACAGGCTGCTTCAATTTTCAAAGCGGGAGGGCTGACCTTTAAGGGAGCGTTTTTTACGCCAGTTAGCGCCTTACAAGGGTGACGAACATCCTGCAATTGGTAAGCGAGATTGTGTCTAATCGCGGCATAAGGATTTGAATAAGCTGTCTCCGCGCCATTATTCCGCGTGATCAATCAGATCATGCGTGATCAACAGAGAGGCTCCA\"\n",
    "#with open(\"./E-coli.txt\", \"r\") as file:\n",
    "#    ecoli = file.read()\n",
    "result = find_clumps(text, 9, 500, 3)\n",
    "print(result)"
   ]
  },
  {
   "cell_type": "code",
   "execution_count": 8,
   "metadata": {},
   "outputs": [
    {
     "name": "stdout",
     "output_type": "stream",
     "text": [
      "Positions with minimum skew: [1]\n"
     ]
    }
   ],
   "source": [
    "def min_skew(genome):\n",
    "    skew_values = [0] \n",
    "    min_skew_value = 0\n",
    "    min_skew_positions = [0]\n",
    "\n",
    "    for i in range(1, len(genome) + 1):\n",
    "        if genome[i - 1] == 'G':\n",
    "            skew_values.append(skew_values[i - 1] + 1)\n",
    "        elif genome[i - 1] == 'C':\n",
    "            skew_values.append(skew_values[i - 1] - 1)\n",
    "        else:\n",
    "            skew_values.append(skew_values[i - 1])\n",
    "\n",
    "        if skew_values[i] > min_skew_value:\n",
    "            min_skew_value = skew_values[i]\n",
    "            min_skew_positions = [i]\n",
    "        elif skew_values[i] == min_skew_value:\n",
    "            min_skew_positions.append(i)\n",
    "\n",
    "    return min_skew_positions\n",
    "\n",
    "genome = \"GCATACACTTCCCAGTAGGTACTG\"\n",
    "result = min_skew(genome)\n",
    "print(\"Positions with minimum skew:\", result)\n"
   ]
  },
  {
   "cell_type": "code",
   "execution_count": 9,
   "metadata": {},
   "outputs": [
    {
     "name": "stdout",
     "output_type": "stream",
     "text": [
      "Hamming Distance: 43\n"
     ]
    }
   ],
   "source": [
    "def hamming_distance(str1, str2):\n",
    "    if len(str1) != len(str2):\n",
    "        raise ValueError(\"Input strings must be of equal length\")\n",
    "\n",
    "    distance = sum(c1 != c2 for c1, c2 in zip(str1, str2))\n",
    "    return distance\n",
    "\n",
    "string1 = \"CTTGAAGTGGACCTCTAGTTCCTCTACAAAGAACAGGTTGACCTGTCGCGAAG\"\n",
    "string2 = \"ATGCCTTACCTAGATGCAATGACGGACGTATTCCTTTTGCCTCAACGGCTCCT\"\n",
    "\n",
    "distance = hamming_distance(string1, string2)\n",
    "print(\"Hamming Distance:\", distance)\n"
   ]
  },
  {
   "cell_type": "code",
   "execution_count": 10,
   "metadata": {},
   "outputs": [
    {
     "name": "stdout",
     "output_type": "stream",
     "text": [
      "[0, 1, 4, 5, 7, 8, 9, 10, 11, 12, 14, 15, 16]\n"
     ]
    }
   ],
   "source": [
    "def approximate_pattern_matching(pattern, text, d):\n",
    "    positions = []\n",
    "\n",
    "    pattern_length = len(pattern)\n",
    "    text_length = len(text)\n",
    "\n",
    "    for i in range(text_length - pattern_length + 1):\n",
    "        substring = text[i:i + pattern_length]\n",
    "\n",
    "        mismatch_count = sum(c1 != c2 for c1, c2 in zip(pattern, substring))\n",
    "\n",
    "        if mismatch_count <= d:\n",
    "            positions.append(i)\n",
    "\n",
    "    return positions\n",
    "\n",
    "pattern = \"AA\"\n",
    "text = \"TACGCATTACAAAGCACA\"\n",
    "d = 1\n",
    "\n",
    "occurrences = approximate_pattern_matching(pattern, text, d)\n",
    "#occurrences\n",
    "print(occurrences)\n"
   ]
  },
  {
   "cell_type": "code",
   "execution_count": 11,
   "metadata": {},
   "outputs": [
    {
     "name": "stdout",
     "output_type": "stream",
     "text": [
      "8\n"
     ]
    }
   ],
   "source": [
    "def approximate_pattern_count(text, pattern, d):\n",
    "    count = 0\n",
    "    pattern_length = len(pattern)\n",
    "    text_length = len(text)\n",
    "\n",
    "    for i in range(text_length - pattern_length + 1):\n",
    "        pattern_prime = text[i:i + pattern_length]\n",
    "\n",
    "        hamming_distance = sum(c1 != c2 for c1, c2 in zip(pattern, pattern_prime))\n",
    "\n",
    "        if hamming_distance <= d:\n",
    "            count += 1\n",
    "\n",
    "    return count\n",
    "\n",
    "text = \"CGTGACAGTGTATGGGCATCTTT\"\n",
    "pattern = \"TGT\"\n",
    "d = 1\n",
    "\n",
    "result = approximate_pattern_count(text, pattern, d)\n",
    "print(result)\n"
   ]
  },
  {
   "cell_type": "code",
   "execution_count": 12,
   "metadata": {},
   "outputs": [
    {
     "name": "stdout",
     "output_type": "stream",
     "text": [
      "Frequent Words with Mismatches: ['TTTTT']\n"
     ]
    }
   ],
   "source": [
    "from collections import defaultdict\n",
    "\n",
    "def frequent_words_with_mismatches(text, k, d):\n",
    "    patterns = []\n",
    "    freq_map = defaultdict(int)\n",
    "    n = len(text)\n",
    "\n",
    "    for i in range(n - k + 1):\n",
    "        pattern = text[i:i + k]\n",
    "        neighborhood = neighbors(pattern, d)\n",
    "\n",
    "        for neighbor in neighborhood:\n",
    "            freq_map[neighbor] += 1\n",
    "\n",
    "    max_frequency = max(freq_map.values())\n",
    "    frequent_patterns = [pattern for pattern, frequency in freq_map.items() if frequency == max_frequency]\n",
    "\n",
    "    return frequent_patterns\n",
    "\n",
    "def neighbors(pattern, d):\n",
    "    if d == 0:\n",
    "        return [pattern]\n",
    "\n",
    "    if len(pattern) == 1:\n",
    "        return ['A', 'C', 'G', 'T']\n",
    "\n",
    "    neighborhood = set()\n",
    "\n",
    "    suffix_neighbors = neighbors(pattern[1:], d)\n",
    "    for suffix in suffix_neighbors:\n",
    "        if hamming_distance(pattern[1:], suffix) < d:\n",
    "            for nucleotide in ['A', 'C', 'G', 'T']:\n",
    "                neighborhood.add(nucleotide + suffix)\n",
    "        else:\n",
    "            neighborhood.add(pattern[0] + suffix)\n",
    "\n",
    "    return list(neighborhood)\n",
    "\n",
    "def hamming_distance(str1, str2):\n",
    "    return sum(c1 != c2 for c1, c2 in zip(str1, str2))\n",
    "\n",
    "text = \"CTCTCTATGATGACTCTACTCTCCTCTACTCTCCTCTCTGATCTATGATGATCCTCTCTGATGATGATATCTCTACTTGACTCTGACTTGATCCTCCTCTACTCTCTCTCCTCCTCCTTATCTATCCTCTTGATATCTATCTATGATATGACTTCTATCCTCTCTCTCTCCTCTGATGACTTGATCTCTGATCTACTCCTCTCTATGA\"\n",
    "k = 5\n",
    "d = 3\n",
    "\n",
    "result = frequent_words_with_mismatches(text, k, d)\n",
    "print(\"Frequent Words with Mismatches:\", result)\n"
   ]
  },
  {
   "cell_type": "code",
   "execution_count": 13,
   "metadata": {},
   "outputs": [
    {
     "name": "stdout",
     "output_type": "stream",
     "text": [
      "Immediate Neighbors: {'ATG', 'GCG', 'AGG', 'ACC', 'ACT', 'AAG', 'ACA', 'ACG', 'TCG', 'CCG'}\n"
     ]
    }
   ],
   "source": [
    "def immediate_neighbors(pattern):\n",
    "    neighborhood = set([pattern])\n",
    "\n",
    "    for i in range(len(pattern)):\n",
    "        symbol = pattern[i]\n",
    "\n",
    "        for nucleotide in ['A', 'C', 'G', 'T']:\n",
    "            if nucleotide != symbol:\n",
    "                neighbor = pattern[:i] + nucleotide + pattern[i+1:]\n",
    "                neighborhood.add(neighbor)\n",
    "\n",
    "    return neighborhood\n",
    "\n",
    "pattern = \"ACG\"\n",
    "neighbors = immediate_neighbors(pattern)\n",
    "print(\"Immediate Neighbors:\", neighbors)\n"
   ]
  },
  {
   "cell_type": "code",
   "execution_count": 14,
   "metadata": {},
   "outputs": [
    {
     "name": "stdout",
     "output_type": "stream",
     "text": [
      "Neighbors: 106\n"
     ]
    }
   ],
   "source": [
    "def neighbors(pattern, d):\n",
    "    if d == 0:\n",
    "        return {pattern}\n",
    "    if len(pattern) == 1:\n",
    "        return ['A', 'C', 'G', 'T']\n",
    "\n",
    "    neighborhood = set()\n",
    "    suffix_neighbors = neighbors(pattern[1:], d)\n",
    "\n",
    "    for text in suffix_neighbors:\n",
    "        if hamming_distance(pattern[1:], text) < d:\n",
    "            for nucleotide in ['A', 'C', 'G', 'T']:\n",
    "                neighborhood.add(nucleotide + text)\n",
    "        else:\n",
    "            neighborhood.add(pattern[0] + text)\n",
    "\n",
    "    return neighborhood\n",
    "\n",
    "def hamming_distance(str1, str2):\n",
    "    return sum(c1 != c2 for c1, c2 in zip(str1, str2))\n",
    "\n",
    "pattern = \"TGCAT\"\n",
    "d = 2\n",
    "result = neighbors(pattern, d)\n",
    "print(\"Neighbors:\", len(result))\n"
   ]
  },
  {
   "cell_type": "code",
   "execution_count": 15,
   "metadata": {},
   "outputs": [
    {
     "name": "stdout",
     "output_type": "stream",
     "text": [
      "Neighbors: 31\n"
     ]
    }
   ],
   "source": [
    "def neighbors(pattern, d):\n",
    "    if d == 0:\n",
    "        return {pattern}\n",
    "    if len(pattern) == 1:\n",
    "        return {'A', 'C', 'G', 'T'}\n",
    "\n",
    "    neighborhood = set()\n",
    "    suffix_neighbors = neighbors(pattern[1:], d)\n",
    "\n",
    "    for text in suffix_neighbors:\n",
    "        if hamming_distance(pattern[1:], text) < d:\n",
    "            for nucleotide in ['A', 'C', 'G', 'T']:\n",
    "                neighborhood.add(nucleotide + text)\n",
    "        else:\n",
    "            neighborhood.add(pattern[0] + text)\n",
    "\n",
    "    return neighborhood\n",
    "\n",
    "def hamming_distance(str1, str2):\n",
    "    return sum(c1 != c2 for c1, c2 in zip(str1, str2))\n",
    "\n",
    "pattern = \"CCAGTCAATG\"\n",
    "d = 1\n",
    "result = neighbors(pattern, d)\n",
    "print(\"Neighbors:\", len(result))\n"
   ]
  },
  {
   "cell_type": "code",
   "execution_count": 16,
   "metadata": {},
   "outputs": [
    {
     "data": {
      "text/plain": [
       "5"
      ]
     },
     "execution_count": 16,
     "metadata": {},
     "output_type": "execute_result"
    }
   ],
   "source": [
    "def PatternCount(Text, Pattern):\n",
    "    count = 0\n",
    "    for i in range(len(Text)-len(Pattern)+1):\n",
    "        if Text[i:i+len(Pattern)] == Pattern:\n",
    "            count = count+1\n",
    "    return count \n",
    "PatternCount('GCGCG','GCG')\n",
    "PatternCount(\"CGCGATACGTTACATACATGATAGACCGCGCGCGATCATATCGCGATTATC\",\"CGCG\")"
   ]
  },
  {
   "cell_type": "code",
   "execution_count": 32,
   "metadata": {},
   "outputs": [
    {
     "data": {
      "text/plain": [
       "{'CGA': 1,\n",
       " 'GAT': 1,\n",
       " 'ATA': 3,\n",
       " 'TAT': 2,\n",
       " 'ATC': 1,\n",
       " 'TCC': 1,\n",
       " 'CCA': 1,\n",
       " 'CAT': 1,\n",
       " 'TAG': 1}"
      ]
     },
     "execution_count": 32,
     "metadata": {},
     "output_type": "execute_result"
    }
   ],
   "source": [
    "def FrequencyMap(Text, k):\n",
    "    freq = {}\n",
    "    n = len(Text)\n",
    "    for i in range(n-k+1):\n",
    "        Pattern = Text[i:i+k]\n",
    "        freq[Pattern] = 0\n",
    "        \n",
    "    for pattern in freq:\n",
    "        for i in range(n - k + 1):\n",
    "            if Text[i:i+k] == pattern:\n",
    "                freq[pattern] += 1\n",
    "    return freq\n",
    "FrequencyMap(\"CGATATATCCATAG\",3)"
   ]
  },
  {
   "cell_type": "code",
   "execution_count": 18,
   "metadata": {},
   "outputs": [
    {
     "data": {
      "text/plain": [
       "['GTG']"
      ]
     },
     "execution_count": 18,
     "metadata": {},
     "output_type": "execute_result"
    }
   ],
   "source": [
    "def FrequentWords(Text, k):\n",
    "    words = []\n",
    "    freq = FrequencyMap(Text, k)\n",
    "    m = max(freq.values())\n",
    "    for key in freq:\n",
    "        if freq[key] == m:\n",
    "            words.append(key)\n",
    "    return words\n",
    "\n",
    "def FrequencyMap(Text, k):\n",
    "    freq = {}\n",
    "    n = len(Text)\n",
    "    for i in range(n-k+1):\n",
    "        Pattern = Text[i:i+k]\n",
    "        freq[Pattern] = 0\n",
    "        \n",
    "    for pattern in freq:\n",
    "        for i in range(n - k + 1):\n",
    "            if Text[i:i+k] == pattern:\n",
    "                freq[pattern] += 1\n",
    "    \n",
    "    return freq\n",
    "\n",
    "FrequentWords(\"ACGTTGCATGTCGCATGATGCATGAGAGCT\", 4)\n",
    "FrequentWords(\"TAAACGTGAGAGAAACGTGCTGATTACACTTGTTCGTGTGGTAT\",3)"
   ]
  },
  {
   "cell_type": "code",
   "execution_count": 19,
   "metadata": {},
   "outputs": [
    {
     "data": {
      "text/plain": [
       "{0: 4, 1: 3, 2: 2, 3: 1, 4: 0, 5: 1, 6: 2, 7: 3}"
      ]
     },
     "execution_count": 19,
     "metadata": {},
     "output_type": "execute_result"
    }
   ],
   "source": [
    "def SymbolArray(Genome, symbol):\n",
    "    array = {}\n",
    "    n = len(Genome)\n",
    "    ExtendedGenome = Genome + Genome[0:n//2]\n",
    "    for i in range(n):\n",
    "        array[i] = PatternCount(ExtendedGenome[i:i+(n//2)],symbol)\n",
    "    return array\n",
    "SymbolArray(\"AAAAGGGG\",\"A\")"
   ]
  },
  {
   "cell_type": "code",
   "execution_count": 21,
   "metadata": {},
   "outputs": [],
   "source": [
    "def FasterSymbolArray(Genome, symbol):\n",
    "    array = {}\n",
    "    n = len(Genome)\n",
    "    ExtendedGenome = Genome + Genome[0:n//2]\n",
    "\n",
    "    array[0] = PatternCount(Genome[0:n//2],symbol)\n",
    "\n",
    "    for i in range(1, n):\n",
    "        array[i] = array[i-1]\n",
    "\n",
    "        if ExtendedGenome[i-1] == symbol:\n",
    "            array[i] = array[i]-1\n",
    "        if ExtendedGenome[i+(n//2)-1] == symbol:\n",
    "            array[i] = array[i]+1\n",
    "    return array"
   ]
  },
  {
   "cell_type": "code",
   "execution_count": 22,
   "metadata": {},
   "outputs": [
    {
     "data": {
      "text/plain": [
       "[0, 1, 1, 2, 1, 0, 0, -1, -2, -1, -2, -1, -1, -1, -1]"
      ]
     },
     "execution_count": 22,
     "metadata": {},
     "output_type": "execute_result"
    }
   ],
   "source": [
    "def SkewArray(Genome):\n",
    "    skew_values = [0]  \n",
    "\n",
    "    for i in range(len(Genome)):\n",
    "        if Genome[i] == 'C':\n",
    "            skew_values.append(skew_values[i] - 1)\n",
    "        elif Genome[i] == 'G':\n",
    "            skew_values.append(skew_values[i] + 1)\n",
    "        else:\n",
    "            skew_values.append(skew_values[i])\n",
    "\n",
    "    return skew_values\n",
    "SkewArray(\"GAGCCACCGCGATA\")"
   ]
  },
  {
   "cell_type": "code",
   "execution_count": 23,
   "metadata": {},
   "outputs": [
    {
     "data": {
      "text/plain": [
       "[12]"
      ]
     },
     "execution_count": 23,
     "metadata": {},
     "output_type": "execute_result"
    }
   ],
   "source": [
    "def MinimumSkew(Genome):\n",
    "    positions = [] \n",
    "    skew_raw = SkewArray(Genome)\n",
    "    \n",
    "    values_min = min(skew_raw)\n",
    "    for i in range(len(skew_raw)):\n",
    "        if skew_raw[i] == values_min:\n",
    "            positions.append(i)\n",
    "                \n",
    "    return positions\n",
    "\n",
    "MinimumSkew(\"GATACACTTCCCGAGTAGGTACTG\")"
   ]
  },
  {
   "cell_type": "code",
   "execution_count": 25,
   "metadata": {},
   "outputs": [],
   "source": [
    "def Count(Motifs):\n",
    "    count = {} \n",
    "    k = len(Motifs[0])\n",
    "    for symbol in \"ACGT\":\n",
    "        count[symbol] = []\n",
    "        for j in range(k):\n",
    "             count[symbol].append(0)\n",
    "                \n",
    "    t = len(Motifs)\n",
    "    for i in range(t):\n",
    "        for j in range(k):\n",
    "            symbol = Motifs[i][j]\n",
    "            count[symbol][j] += 1\n",
    "            \n",
    "    return count"
   ]
  },
  {
   "cell_type": "code",
   "execution_count": 26,
   "metadata": {},
   "outputs": [],
   "source": [
    "def Consensus(Motifs):\n",
    "    k = len(Motifs[0])\n",
    "    count = Count(Motifs)\n",
    "    consensus = \"\"\n",
    "    for j in range(k):\n",
    "        m = 0\n",
    "        frequentSymbol = \"\"\n",
    "        for symbol in \"ACGT\":\n",
    "            if count[symbol][j] > m:\n",
    "                m = count[symbol][j]\n",
    "                frequentSymbol = symbol\n",
    "        consensus += frequentSymbol\n",
    "        \n",
    "    return consensus"
   ]
  },
  {
   "cell_type": "code",
   "execution_count": 27,
   "metadata": {},
   "outputs": [],
   "source": [
    "def Score(Motifs):\n",
    "    consensus = Consensus(Motifs)  \n",
    "    k = len(consensus)\n",
    "    t = len(Motifs)\n",
    "    score = 0\n",
    "\n",
    "    for j in range(k):\n",
    "        for i in range(t):\n",
    "            if Motifs[i][j] != consensus[j]:\n",
    "                score += 1\n",
    "\n",
    "    return score"
   ]
  },
  {
   "cell_type": "code",
   "execution_count": 28,
   "metadata": {},
   "outputs": [],
   "source": [
    "def Pr(Text, Profile):\n",
    "    p = 1.0\n",
    "\n",
    "    for i in range(len(Text)):\n",
    "        symbol = Text[i]\n",
    "        column = i\n",
    "\n",
    "        p *= Profile[symbol][column]\n",
    "\n",
    "    return p"
   ]
  },
  {
   "cell_type": "code",
   "execution_count": 29,
   "metadata": {},
   "outputs": [],
   "source": [
    "def ProfileMostProbableKmer(text, k, profile):\n",
    "    conserve=''\n",
    "    m= -1.0     # A number smaller than Zero\n",
    "    for j in range(len(text)-k+1):\n",
    "      p =1.0\n",
    "      conv=text[j:j+k]\n",
    "      for i in range(k):\n",
    "        p = p * profile[conv[i]][i]\n",
    "      if p >m:\n",
    "        m=p\n",
    "        conserve = conv\n",
    "    return conserve"
   ]
  },
  {
   "cell_type": "code",
   "execution_count": 30,
   "metadata": {},
   "outputs": [],
   "source": [
    "def GreedyMotifSearch(Dna, k, t):\n",
    "    n = len(Dna[0])\n",
    "    best_motifs = [Dna[i][0:k] for i in range(t)]\n",
    "\n",
    "    for i in range(n - k + 1):\n",
    "        motifs = [Dna[0][i:i+k]]\n",
    "        for j in range(1, t):\n",
    "            profile = Profile(motifs[0:j])\n",
    "            motifs.append(ProfileMostProbableKmer(Dna[j], k, profile))\n",
    "\n",
    "        if Score(motifs) < Score(best_motifs):\n",
    "            best_motifs = motifs\n",
    "\n",
    "    return best_motifs"
   ]
  }
 ],
 "metadata": {
  "kernelspec": {
   "display_name": "Python 3 (ipykernel)",
   "language": "python",
   "name": "python3"
  },
  "language_info": {
   "codemirror_mode": {
    "name": "ipython",
    "version": 3
   },
   "file_extension": ".py",
   "mimetype": "text/x-python",
   "name": "python",
   "nbconvert_exporter": "python",
   "pygments_lexer": "ipython3",
   "version": "3.11.5"
  }
 },
 "nbformat": 4,
 "nbformat_minor": 4
}
